{
 "cells": [
  {
   "cell_type": "code",
   "execution_count": 7,
   "id": "fd70b4d1",
   "metadata": {},
   "outputs": [],
   "source": [
    "#Syeda Adan Raza\n",
    "#FA24-BBD-085\n",
    "#practice Exercise"
   ]
  },
  {
   "cell_type": "code",
   "execution_count": 15,
   "id": "310dfe47",
   "metadata": {},
   "outputs": [
    {
     "name": "stdout",
     "output_type": "stream",
     "text": [
      "Adan, 18, Lahore\n"
     ]
    }
   ],
   "source": [
    "#Q.1:Create a class Person with attributes name, age, and city.\n",
    "class person:\n",
    "    def __init__(self, name, age, city):\n",
    "        self.name = name\n",
    "        self.age = age\n",
    "        self.city = city\n",
    "    def __str__(self):\n",
    "        return f\"{self.name}, {self.age}, {self.city}\"\n",
    "person_attributes = person(\"Adan\", 18, \"Lahore\")\n",
    "print(person_attributes)"
   ]
  },
  {
   "cell_type": "code",
   "execution_count": 20,
   "id": "6bae6ea2",
   "metadata": {},
   "outputs": [
    {
     "name": "stdout",
     "output_type": "stream",
     "text": [
      "Hyundai, Sonata, 2024\n"
     ]
    }
   ],
   "source": [
    "#Q.2:Create a class Car with attributes make, model, and year.\n",
    "class Car :\n",
    "    def __init__(self, make, model, year):\n",
    "        self.make = make\n",
    "        self.model = model\n",
    "        self.year = year\n",
    "\n",
    "    def __str__(self):\n",
    "        return f\"{self.make}, {self.model}, {self.year}\"\n",
    "car_attributes = Car(\"Hyundai\", \"Sonata\", 2024)\n",
    "print(car_attributes)\n",
    "    \n",
    "\n"
   ]
  },
  {
   "cell_type": "code",
   "execution_count": 22,
   "id": "9bb6c5dd",
   "metadata": {},
   "outputs": [
    {
     "name": "stdout",
     "output_type": "stream",
     "text": [
      "Circle(radius=5)\n",
      "Area: 78.53981633974483\n",
      "Circumference: 31.41592653589793\n"
     ]
    }
   ],
   "source": [
    "#Q.3:Create a class Circle with attributes radius and methods to calculate area and circumference.\n",
    "import math\n",
    "class Circle:\n",
    "    def __init__(self, radius):\n",
    "        self.radius = radius\n",
    "    def area(self):\n",
    "        # Area of a circle: π * r^2\n",
    "        return math.pi * (self.radius ** 2)\n",
    "    def circumference(self):\n",
    "        # Circumference of a circle: 2 * π * r\n",
    "        return 2 * math.pi * self.radius\n",
    "    def __str__(self):\n",
    "        return f\"Circle(radius={self.radius})\"\n",
    "circle = Circle(5)\n",
    "print(circle)  \n",
    "print(\"Area:\", circle.area())  \n",
    "print(\"Circumference:\", circle.circumference())  \n",
    "\n"
   ]
  },
  {
   "cell_type": "code",
   "execution_count": 23,
   "id": "0657444f",
   "metadata": {},
   "outputs": [
    {
     "name": "stdout",
     "output_type": "stream",
     "text": [
      "Rectangle(10, 5)\n",
      "Area: 50\n",
      "Perimeter: 30\n"
     ]
    }
   ],
   "source": [
    "#Q.4:Create a class Rectangle with attributes length and width and methods to calculate area and perimeter.\n",
    "class Rectangle:\n",
    "    def __init__(self, length, width):\n",
    "        self.length = length\n",
    "        self.width = width\n",
    "    def area(self):\n",
    "        # Area of a rectangle: length * width\n",
    "        return self.length * self.width\n",
    "    def perimeter(self):\n",
    "        # Perimeter of a rectangle: 2 * (length + width)\n",
    "        return 2 * (self.length + self.width)\n",
    "    def __str__(self):\n",
    "        return f\"Rectangle({self.length}, {self.width})\"\n",
    "rectangle = Rectangle(10, 5)\n",
    "print(rectangle)  \n",
    "print(\"Area:\", rectangle.area())  \n",
    "print(\"Perimeter:\", rectangle.perimeter())  \n",
    "\n"
   ]
  },
  {
   "cell_type": "code",
   "execution_count": 29,
   "id": "e2c475e9",
   "metadata": {},
   "outputs": [
    {
     "name": "stdout",
     "output_type": "stream",
     "text": [
      "(Adan, FA24-BBD-085, [85, 90, 78, 88])\n",
      "Average Marks: 85.25\n"
     ]
    }
   ],
   "source": [
    "#Q.5: Create a class Student with attributes name, roll_number, and marks. Implement a method to calculate the average marks.\n",
    "class Student:\n",
    "    def __init__(self, name, roll_number, marks):\n",
    "        self.name = name\n",
    "        self.roll_number = roll_number\n",
    "        self.marks = marks  \n",
    "    def average_marks(self):\n",
    "        if not self.marks: \n",
    "            return 0\n",
    "        return sum(self.marks) / len(self.marks)\n",
    "    def __str__(self):\n",
    "        return f\"({self.name}, {self.roll_number}, {self.marks})\"\n",
    "student_attributes = Student(\"Adan\", \"FA24-BBD-085\", [85, 90, 78, 88])\n",
    "print(student_attributes)  \n",
    "print(\"Average Marks:\", student_attributes.average_marks())  \n",
    "    \n"
   ]
  },
  {
   "cell_type": "code",
   "execution_count": 30,
   "id": "16703aa0",
   "metadata": {},
   "outputs": [
    {
     "name": "stdout",
     "output_type": "stream",
     "text": [
      "(Harry Potter, J.K. Rowling, 1997)\n"
     ]
    }
   ],
   "source": [
    "#Q.6:Create a class Book with attributes title, author, and publication_year.\n",
    "class Book:\n",
    "    def __init__(self, title, author, publication_year):\n",
    "        self.title = title\n",
    "        self.author = author\n",
    "        self.publication_year = publication_year\n",
    "    def __str__(self):\n",
    "        return f\"({self.title}, {self.author}, {self.publication_year})\"\n",
    "book_attributes = Book(\"Harry Potter\", \"J.K. Rowling\", 1997)\n",
    "print(book_attributes)  \n",
    "\n"
   ]
  },
  {
   "cell_type": "code",
   "execution_count": 32,
   "id": "8b3568fd",
   "metadata": {},
   "outputs": [
    {
     "name": "stdout",
     "output_type": "stream",
     "text": [
      "Adan, 500000, Data Scientist\n"
     ]
    }
   ],
   "source": [
    "#Q.7: Create a class Employee with attributes name, salary, and designation.\n",
    "class Employee:\n",
    "    def __init__(self, name, salary, designation):\n",
    "        self.name = name\n",
    "        self.salary = salary\n",
    "        self.designation = designation\n",
    "    def __str__(self):\n",
    "        return f\"{self.name}, {self.salary}, {self.designation}\"\n",
    "employee_attributes = Employee(\"Adan\", 500000, \"Data Scientist\")\n",
    "print(employee_attributes)  \n",
    "\n"
   ]
  },
  {
   "cell_type": "code",
   "execution_count": 36,
   "id": "807dede8",
   "metadata": {},
   "outputs": [
    {
     "name": "stdout",
     "output_type": "stream",
     "text": [
      "Bank Account(name=John Doe, account_number=123456789, balance=1000.0)\n",
      "Deposited 500. New balance: 1500.0\n",
      "Withdrew 200. New balance: 1300.0\n",
      "Insufficient funds.\n",
      "Deposit amount must be positive.\n",
      "Current balance: 1300.0\n"
     ]
    }
   ],
   "source": [
    "#Q.8:Create a class Bank with attributes name, account_number, and balance. Implement methods to deposit and withdraw money.\n",
    "class Bank:\n",
    "    def __init__(self, name, account_number, balance=0.0):\n",
    "        \"\"\"Initializes the bank account with name, account number, and balance.\"\"\"\n",
    "        self.name = name\n",
    "        self.account_number = account_number\n",
    "        self.balance = balance\n",
    "\n",
    "    def deposit(self, amount):\n",
    "        \"\"\"Deposits a positive amount into the account.\"\"\"\n",
    "        if amount > 0:\n",
    "            self.balance += amount\n",
    "            print(f\"Deposited {amount}. New balance: {self.balance}\")\n",
    "        else:\n",
    "            print(\"Deposit amount must be positive.\")\n",
    "\n",
    "    def withdraw(self, amount):\n",
    "        \"\"\"Withdraws a positive amount from the account if there are sufficient funds.\"\"\"\n",
    "        if amount > 0:\n",
    "            if amount <= self.balance:\n",
    "                self.balance -= amount\n",
    "                print(f\"Withdrew {amount}. New balance: {self.balance}\")\n",
    "            else:\n",
    "                print(\"Insufficient funds.\")\n",
    "        else:\n",
    "            print(\"Withdrawal amount must be positive.\")\n",
    "    def get_balance(self):\n",
    "        \"\"\"Returns the current balance of the account.\"\"\"\n",
    "        return self.balance\n",
    "    def __str__(self):\n",
    "        \"\"\"String representation of the bank account.\"\"\"\n",
    "        return f\"Bank Account(name={self.name}, account_number={self.account_number}, balance={self.balance})\"\n",
    "account = Bank(\"John Doe\", \"123456789\", 1000.0)\n",
    "print(account)  \n",
    "account.deposit(500)  \n",
    "account.withdraw(200) \n",
    "account.withdraw(1500)  \n",
    "account.deposit(-100)  \n",
    "print(\"Current balance:\", account.get_balance()) \n"
   ]
  },
  {
   "cell_type": "code",
   "execution_count": null,
   "id": "4980dfeb",
   "metadata": {},
   "outputs": [],
   "source": []
  }
 ],
 "metadata": {
  "kernelspec": {
   "display_name": "Python 3 (ipykernel)",
   "language": "python",
   "name": "python3"
  },
  "language_info": {
   "codemirror_mode": {
    "name": "ipython",
    "version": 3
   },
   "file_extension": ".py",
   "mimetype": "text/x-python",
   "name": "python",
   "nbconvert_exporter": "python",
   "pygments_lexer": "ipython3",
   "version": "3.11.5"
  }
 },
 "nbformat": 4,
 "nbformat_minor": 5
}
